{
 "cells": [
  {
   "cell_type": "markdown",
   "metadata": {},
   "source": [
    "# This is an Example Notebook"
   ]
  },
  {
   "cell_type": "code",
   "execution_count": 1,
   "metadata": {},
   "outputs": [
    {
     "name": "stdout",
     "output_type": "stream",
     "text": [
      "Hello World!\n"
     ]
    }
   ],
   "source": [
    "print(\"Hello World!\")"
   ]
  },
  {
   "cell_type": "code",
   "execution_count": 4,
   "metadata": {},
   "outputs": [
    {
     "name": "stdout",
     "output_type": "stream",
     "text": [
      "0\n",
      "\t every other 5 is divisible by 10\n",
      "5\n",
      "10\n",
      "\t every other 5 is divisible by 10\n",
      "15\n",
      "20\n",
      "\t every other 5 is divisible by 10\n",
      "25\n",
      "30\n",
      "\t every other 5 is divisible by 10\n",
      "35\n",
      "40\n",
      "\t every other 5 is divisible by 10\n",
      "45\n",
      "50\n",
      "\t every other 5 is divisible by 10\n",
      "55\n",
      "60\n",
      "\t every other 5 is divisible by 10\n",
      "65\n",
      "70\n",
      "\t every other 5 is divisible by 10\n",
      "75\n",
      "80\n",
      "\t every other 5 is divisible by 10\n",
      "85\n",
      "90\n",
      "\t every other 5 is divisible by 10\n",
      "95\n"
     ]
    }
   ],
   "source": [
    "for idx in range(0,100,5):\n",
    "    print(idx)\n",
    "    if idx % 10 == 0:\n",
    "        print(\"\\t every other 5 is divisible by 10\")"
   ]
  },
  {
   "cell_type": "code",
   "execution_count": null,
   "metadata": {},
   "outputs": [],
   "source": []
  }
 ],
 "metadata": {
  "kernelspec": {
   "display_name": "Python 3",
   "language": "python",
   "name": "python3"
  },
  "language_info": {
   "codemirror_mode": {
    "name": "ipython",
    "version": 3
   },
   "file_extension": ".py",
   "mimetype": "text/x-python",
   "name": "python",
   "nbconvert_exporter": "python",
   "pygments_lexer": "ipython3",
   "version": "3.5.5"
  }
 },
 "nbformat": 4,
 "nbformat_minor": 2
}
